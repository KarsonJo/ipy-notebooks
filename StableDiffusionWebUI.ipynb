{
  "cells": [
    {
      "cell_type": "markdown",
      "metadata": {
        "id": "view-in-github",
        "colab_type": "text"
      },
      "source": [
        "<a href=\"https://colab.research.google.com/github/KarsonJo/ipy-notebooks/blob/main/StableDiffusionWebUI.ipynb\" target=\"_parent\"><img src=\"https://colab.research.google.com/assets/colab-badge.svg\" alt=\"Open In Colab\"/></a>"
      ]
    },
    {
      "cell_type": "markdown",
      "source": [
        "# ☁云炼丹"
      ],
      "metadata": {
        "id": "hpykMyEXoFIq"
      }
    },
    {
      "cell_type": "markdown",
      "source": [
        "# 准备模型\n",
        "- 谷歌云盘\n",
        "- 准备链接，每次运行都下载（非常不建议）\n",
        "\n",
        "下面以云盘为例"
      ],
      "metadata": {
        "id": "0HimBvhzPWZ1"
      }
    },
    {
      "cell_type": "code",
      "source": [
        "from google.colab import drive\n",
        "drive.mount('/content/drive')"
      ],
      "metadata": {
        "id": "A2CuDLQQArUn"
      },
      "execution_count": null,
      "outputs": []
    },
    {
      "cell_type": "markdown",
      "source": [
        "# 准备程序\n",
        "将仓库下载至Colab并复制准备的模型"
      ],
      "metadata": {
        "id": "fuz-76YVQlCt"
      }
    },
    {
      "cell_type": "code",
      "execution_count": null,
      "metadata": {
        "id": "sBbcB4vwj_jm"
      },
      "outputs": [],
      "source": [
        "!pip install --upgrade fastapi==0.90.1\n",
        "!pip install -U xformers\n",
        "!git clone https://github.com/AUTOMATIC1111/stable-diffusion-webui\n",
        "\n",
        "# 复制模型\n",
        "# Lora也可以放\n",
        "!cp \"/content/drive/MyDrive/protogenV22Anime_22.safetensors\" \"/content/stable-diffusion-webui/models/Stable-diffusion\"\n",
        "\n"
      ]
    },
    {
      "cell_type": "markdown",
      "source": [
        "# 启动面板\n",
        "- 启动后点击输出结果的链接就可以打开炼丹面板\n",
        "- 建议想好要干什么再开，不要一直挂机，小心谷歌拉闸\n",
        "- **用完记得回来终止执行并关闭会话** "
      ],
      "metadata": {
        "id": "-TqM8VLLRFL1"
      }
    },
    {
      "cell_type": "code",
      "source": [
        "%cd /content/stable-diffusion-webui\n",
        "!sed -i 's/gradio==3.16.2/gradio==3.9.0/g' /content/stable-diffusion-webui/requirements.txt\n",
        "!COMMANDLINE_ARGS=\"--share --disable-safe-unpickle --no-half-vae --xformers --enable-insecure-extension-access\" REQS_FILE=\"requirements.txt\" python launch.py"
      ],
      "metadata": {
        "id": "LhtAyAVVsQoE"
      },
      "execution_count": null,
      "outputs": []
    },
    {
      "cell_type": "markdown",
      "metadata": {
        "id": "fhwIXzcgfkoR"
      },
      "source": [
        "# 💻 [karsonjo的博客](https://www.karsonjo.com)"
      ]
    }
  ],
  "metadata": {
    "accelerator": "GPU",
    "colab": {
      "provenance": [],
      "private_outputs": true,
      "include_colab_link": true
    },
    "gpuClass": "standard",
    "kernelspec": {
      "display_name": "Python 3",
      "name": "python3"
    },
    "language_info": {
      "name": "python"
    }
  },
  "nbformat": 4,
  "nbformat_minor": 0
}