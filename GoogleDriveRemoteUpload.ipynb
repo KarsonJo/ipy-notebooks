{
  "nbformat": 4,
  "nbformat_minor": 0,
  "metadata": {
    "colab": {
      "private_outputs": true,
      "provenance": [],
      "authorship_tag": "ABX9TyPdA38tAqZQL58QpV2SpaQ6",
      "include_colab_link": true
    },
    "kernelspec": {
      "name": "python3",
      "display_name": "Python 3"
    },
    "language_info": {
      "name": "python"
    },
    "gpuClass": "standard"
  },
  "cells": [
    {
      "cell_type": "markdown",
      "metadata": {
        "id": "view-in-github",
        "colab_type": "text"
      },
      "source": [
        "<a href=\"https://colab.research.google.com/github/KarsonJo/ipy-notebooks/blob/main/GoogleDriveRemoteUpload.ipynb\" target=\"_parent\"><img src=\"https://colab.research.google.com/assets/colab-badge.svg\" alt=\"Open In Colab\"/></a>"
      ]
    },
    {
      "cell_type": "markdown",
      "source": [
        "# 借助Colab实现谷歌云盘的离线上传\n",
        "想出这玩意的人真™是个天才"
      ],
      "metadata": {
        "id": "WihQ2rG0duOC"
      }
    },
    {
      "cell_type": "markdown",
      "source": [
        "# 挂载Google Drive"
      ],
      "metadata": {
        "id": "WV7y-Okxehi8"
      }
    },
    {
      "cell_type": "code",
      "source": [
        "from google.colab import drive\n",
        "drive.mount('/content/drive')"
      ],
      "metadata": {
        "id": "vOQSYKXedk5O"
      },
      "execution_count": null,
      "outputs": []
    },
    {
      "cell_type": "markdown",
      "source": [
        "# 离线上传文件"
      ],
      "metadata": {
        "id": "J_eh-TOnek4n"
      }
    },
    {
      "cell_type": "code",
      "execution_count": null,
      "metadata": {
        "id": "F5gb6n58dh5V"
      },
      "outputs": [],
      "source": [
        "# 你的下载链接\n",
        "%env url=http://ipv4.download.thinkbroadband.com/1GB.zip\n",
        "# 下载\n",
        "!wget --content-disposition -P '/content/drive/MyDrive/download' $url"
      ]
    },
    {
      "cell_type": "markdown",
      "source": [
        "# 💻 karsonjo的[博客](https://www.karsonjo.com)"
      ],
      "metadata": {
        "id": "nwJ3suQ5oQq5"
      }
    }
  ]
}